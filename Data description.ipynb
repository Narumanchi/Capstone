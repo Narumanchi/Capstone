{
 "cells": [
  {
   "cell_type": "markdown",
   "metadata": {},
   "source": [
    "## Capstone Project - The Battle of Neighborhoods"
   ]
  },
  {
   "cell_type": "markdown",
   "metadata": {},
   "source": [
    "### Introduction"
   ]
  },
  {
   "cell_type": "markdown",
   "metadata": {},
   "source": [
    "#### Restaurants Data\n",
    ">To obtain the Data for our analysis, \n",
    "lets start with obtaining the data of all the Cafes and also neighborhood restaurants for all the locations of Banglore. Then we can start answering all the questions by analyzing our data.\n",
    "This can be done by scraping data from zomato website"
   ]
  },
  {
   "cell_type": "markdown",
   "metadata": {},
   "source": [
    "#### Neighborhood data\n",
    "> Once we obtain all the data related to restaurants and Cafes of our interest, we may also need to understand the neighborhood of each of our  cafes to understand more about their performance and consider it as a factor for deciding the best location. This can be obtained as Foursquare API"
   ]
  },
  {
   "cell_type": "markdown",
   "metadata": {},
   "source": [
    "#### Geocoder python\n",
    "> To obtain the latitude and longitudes of each location we use Geocoder"
   ]
  },
  {
   "cell_type": "markdown",
   "metadata": {},
   "source": [
    "### Process"
   ]
  },
  {
   "cell_type": "markdown",
   "metadata": {},
   "source": [
    ">1. First we will obtain data of all the Cafes, their average ratings, total # customers and their reviews, pricing etc.\n",
    ">2. Then we look at neighborhood Restaurants and their trending dishes views, rating and cost and thier potential influence on neighborhood cafes will be analyzed\n",
    ">3. once we obtain all the data, we compare all the locations for pros and cons by looking at number of Cafes nearby, number of potential     restaurant competitors nearby, neighborhood trends and features etc to arrive at the optimal location"
   ]
  }
 ],
 "metadata": {
  "kernelspec": {
   "display_name": "Python",
   "language": "python",
   "name": "conda-env-python-py"
  },
  "language_info": {
   "codemirror_mode": {
    "name": "ipython",
    "version": 3
   },
   "file_extension": ".py",
   "mimetype": "text/x-python",
   "name": "python",
   "nbconvert_exporter": "python",
   "pygments_lexer": "ipython3",
   "version": "3.6.7"
  }
 },
 "nbformat": 4,
 "nbformat_minor": 4
}
