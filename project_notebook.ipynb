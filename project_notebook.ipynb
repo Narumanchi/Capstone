

This notebook is being created for project in data science professional certification course by IBM
In [1]:

import numpy
import pandas

In [2]:

print("Hello capstone project course.")

Hello capstone project course.

