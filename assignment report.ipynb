{
 "cells": [
  {
   "cell_type": "markdown",
   "metadata": {},
   "source": [
    "### Background"
   ]
  },
  {
   "cell_type": "markdown",
   "metadata": {},
   "source": [
    "><p> Bengluru is the center of India's high-tech industry. This city is also known for its parks and nightlife. Its sometimes referred to as the \"Silicon Valley of India\" because of its role as the nation's leading information technology (IT) exporter. Bengaluru has one of the most highly educated workforces in the world. It is home to many educational and research institutions, such as Indian Institute of Science (IISc), Indian Institute of Management (Bangalore) (IIMB), International Institute of Information Technology, Bangalore (IIITB), National Institute of Fashion Technology, Bangalore, National Institute of Design, Bangalore (NID R&D Campus), National Law School of India University (NLSIU) and National Institute of Mental Health and Neurosciences (NIMHANS). Numerous state-owned aerospace and defence organisations, such as Bharat Electronics, Hindustan Aeronautics and National Aerospace Laboratories are located in the city. Its a green city and has pleasant weather conditions.</p>"
   ]
  },
  {
   "cell_type": "markdown",
   "metadata": {},
   "source": [
    "### Business Problem"
   ]
  },
  {
   "cell_type": "markdown",
   "metadata": {},
   "source": [
    "> Being an IT hub, its also a great place for businesses like malls, cinema and recreational places as most of the people here are dependent mainly on the restaurant food as they don’t have time to cook for themselves. With such an overwhelming demand of restaurants it has therefore become important to study the demography of a location\n",
    "> Starting a Cafe with nice ambiance and food would be a great idea in a place like Bengaluru. We need to look at different factors that will help in deciding which will be the best location. We are considering the below factors for trying to address this business problem:\n",
    "  1. Which locations have the best rated Cafes\n",
    "  2. Which locations have potential customers for our Cafe\n",
    "  3. Which locations have very few Cafes\n",
    "  4. Which location has optimal commercial rent and maintenance\n",
    "  5. Which location has closest reach to raw materials and at low cost\n",
    "  6. How many food places are present in each area with more than 3 or 4 rating\n",
    "  7. Which dishes and which cuisine are the best rated across all the Cafes\n",
    "  8. What is the per person cost of the place\n",
    "  9. What are Cafes that are best rated for ambience in each location"
   ]
  },
  {
   "cell_type": "markdown",
   "metadata": {},
   "source": [
    "### DATA"
   ]
  },
  {
   "cell_type": "markdown",
   "metadata": {},
   "source": [
    "#### 1. Restaurants Data\n",
    ">To obtain the Data for our analysis, \n",
    "lets start with obtaining the data of all the Cafes and also neighborhood restaurants for all the locations of Banglore. Then we can start answering all the questions by analyzing our data.\n",
    "This can be done by scraping data from zomato website"
   ]
  },
  {
   "cell_type": "markdown",
   "metadata": {},
   "source": [
    "#### 2. Neighborhood data\n",
    "> Once we obtain all the data related to restaurants and Cafes of our interest, we may also need to understand the neighborhood of each of our  cafes to understand more about their performance and consider it as a factor for deciding the best location. This can be obtained as Foursquare API"
   ]
  },
  {
   "cell_type": "markdown",
   "metadata": {},
   "source": [
    "#### 3. Geocoder python\n",
    "> To obtain the latitude and longitudes of each location we use Geocoder"
   ]
  },
  {
   "cell_type": "markdown",
   "metadata": {},
   "source": [
    "### Process"
   ]
  },
  {
   "cell_type": "markdown",
   "metadata": {},
   "source": [
    ">1. First we will obtain data of all the Cafes, their average ratings, total # customers and their reviews, pricing etc.\n",
    ">2. Then we look at neighborhood Restaurants and their trending dishes views, rating and cost and thier potential influence on neighborhood cafes will be analyzed\n",
    ">3. once we obtain all the data, we compare all the locations for pros and cons by looking at number of Cafes nearby, number of potential     restaurant competitors nearby, neighborhood trends and features, cost, potential customer population etc to arrive at the optimal location"
   ]
  },
  {
   "cell_type": "markdown",
   "metadata": {},
   "source": [
    "### Findings/Results"
   ]
  },
  {
   "cell_type": "markdown",
   "metadata": {},
   "source": [
    "1. Most cafes are present in areas: \n",
    "    Koramangala\n",
    "    Indiranagar \n",
    "    BTM \n",
    "    Jayanagar \n",
    "    JP Nagar \n",
    "    MG Road \n",
    "    HSR \n",
    "    Ulsoor \n",
    "2. Cafes loctions with most online orders:\n",
    "    Domlur\n",
    "    Kormangala\n",
    "    Brigade road\n",
    "    Indira nagar\n",
    "    Sheshadripuram\n",
    "    Sarjapur\n",
    "    Electronic city\n",
    "3. Top rated Cafe locations on an average rating for a location\n",
    "    Koramangala\n",
    "    Indiranagar\n",
    "    MG Road \n",
    "    Jayanagar\n",
    "    Church Street\n",
    "    Ulsoor\n",
    "    Cunningham Road\n",
    "    JP Nagar\n",
    "    HSR \n",
    "4. Cafes with low number of high rated cafes (<50% for top rated/total *100)\n",
    "    Bannerghatta Road\n",
    "    Marathahalli\n",
    "    Frazer Town\n",
    "    BTM\n",
    "    Electronic City\n",
    "    Brigade Road\n",
    "    Bellandur\n",
    "    Domlur\n",
    "    Banashankari\n",
    "    Malleshwaram\n",
    "    Basavanagudi\n",
    "    Jeevan Bhima Nagar\n",
    "    Kalyan Nagar\n",
    "    JP Nagar\n",
    "    HSR\n",
    "    Whitefield\n",
    "    New BEL road and couple of others..\n",
    "5. Top rated cuisines\n",
    "    American burger\n",
    "    Continental\n",
    "    Desserts\n",
    "    Pizza\n",
    "    Italian\n",
    "6. Range of cost for most voted cafes:\n",
    "    600-900 \n",
    "7. Most popular locations by votes:\n",
    "    Kormangala\n",
    "    Indira nagar\n",
    "    New BEL road\n",
    "    JP Nagar\n",
    "    HSR\n",
    "    Lavelle road\n",
    "    Church Street"
   ]
  },
  {
   "cell_type": "markdown",
   "metadata": {},
   "source": [
    "### Insights/Recommendations"
   ]
  },
  {
   "cell_type": "markdown",
   "metadata": {},
   "source": [
    "Starting with locations where most people visit\n",
    "and those where high rated are few, so that there is low competetion are New BEL road \n",
    "JP Nagar and HSR. howver, looking at #cafes around,JP Nagar and HSR have many around,as compared to New BEL road. But if you want to be open for online ordering service as well, then JP Nagar and HSR are better. So based on your budget either of the locations will be good, with two person cost around 600-900."
   ]
  },
  {
   "cell_type": "markdown",
   "metadata": {},
   "source": [
    "### Conclusion"
   ]
  },
  {
   "cell_type": "markdown",
   "metadata": {},
   "source": [
    "Although analysisng different restraunts data can help in this analysis, factors like age group, economy of the location will be affecting the real world scenario.\n",
    "however, condiering different factors mentioned above,conclusion is that opening a new Cafe in HSR or JP nagar would be a best option"
   ]
  }
 ],
 "metadata": {
  "kernelspec": {
   "display_name": "Python",
   "language": "python",
   "name": "conda-env-python-py"
  },
  "language_info": {
   "codemirror_mode": {
    "name": "ipython",
    "version": 3
   },
   "file_extension": ".py",
   "mimetype": "text/x-python",
   "name": "python",
   "nbconvert_exporter": "python",
   "pygments_lexer": "ipython3",
   "version": "3.6.7"
  }
 },
 "nbformat": 4,
 "nbformat_minor": 4
}
