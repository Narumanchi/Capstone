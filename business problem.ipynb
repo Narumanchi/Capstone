{
 "cells": [
  {
   "cell_type": "markdown",
   "metadata": {},
   "source": [
    "## Capstone Project - The Battle of Neighborhoods"
   ]
  },
  {
   "cell_type": "markdown",
   "metadata": {},
   "source": [
    "### Background"
   ]
  },
  {
   "cell_type": "markdown",
   "metadata": {},
   "source": [
    "><p> Bengluru is the center of India's high-tech industry. This city is also known for its parks and nightlife. Its sometimes referred to as the \"Silicon Valley of India\" because of its role as the nation's leading information technology (IT) exporter. Bengaluru has one of the most highly educated workforces in the world. It is home to many educational and research institutions, such as Indian Institute of Science (IISc), Indian Institute of Management (Bangalore) (IIMB), International Institute of Information Technology, Bangalore (IIITB), National Institute of Fashion Technology, Bangalore, National Institute of Design, Bangalore (NID R&D Campus), National Law School of India University (NLSIU) and National Institute of Mental Health and Neurosciences (NIMHANS). Numerous state-owned aerospace and defence organisations, such as Bharat Electronics, Hindustan Aeronautics and National Aerospace Laboratories are located in the city. Its a green city and has pleasant weather conditions.</p>"
   ]
  },
  {
   "cell_type": "markdown",
   "metadata": {},
   "source": [
    "### Business Problem"
   ]
  },
  {
   "cell_type": "markdown",
   "metadata": {},
   "source": [
    "> Being an IT hub, its also a great place for businesses like malls, cinema and recreational places as most of the people here are dependent mainly on the restaurant food as they don’t have time to cook for themselves. With such an overwhelming demand of restaurants it has therefore become important to study the demography of a location\n",
    "> Starting a Cafe with nice ambiance and food would be a great idea in a place like Bengaluru. We need to look at different factors that will help in deciding which will be the best location. We are considering the below factors for trying to address this business problem:\n",
    "  1. Which locations have the best rated Cafes\n",
    "  2. Which locations have potential customers for our Cafe\n",
    "  3. Which locations have very few Cafes\n",
    "  4. Which location has optimal commercial rent and maintenance\n",
    "  5. Which location has closest reach to raw materials and at low cost\n",
    "  6. How many food places are present in each area with more than 3 or 4 rating\n",
    "  7. Which dishes and which cuisine are the best rated across all the Cafes\n",
    "  8. What is the per person cost of the place\n",
    "  9. What are Cafes that are best rated for ambience in each location"
   ]
  }
 ],
 "metadata": {
  "kernelspec": {
   "display_name": "Python",
   "language": "python",
   "name": "conda-env-python-py"
  },
  "language_info": {
   "codemirror_mode": {
    "name": "ipython",
    "version": 3
   },
   "file_extension": ".py",
   "mimetype": "text/x-python",
   "name": "python",
   "nbconvert_exporter": "python",
   "pygments_lexer": "ipython3",
   "version": "3.6.7"
  }
 },
 "nbformat": 4,
 "nbformat_minor": 4
}
